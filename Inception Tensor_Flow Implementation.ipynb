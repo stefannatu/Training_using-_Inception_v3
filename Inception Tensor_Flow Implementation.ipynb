{
 "cells": [
  {
   "cell_type": "code",
   "execution_count": null,
   "metadata": {
    "collapsed": true
   },
   "outputs": [],
   "source": [
    "# We implement 1 Inception Modules used in GoogLe net, and test out on the MIT pictures dataset.\n",
    "# This may serve as our test bed for GPU computations.\n",
    "# Model Architecture -- input - inception module - fully connected layer - output. \n",
    "# As a test, we will train this on MNIST.\n",
    "\n",
    "# Result: the model overfits the training data but doesn't generalize well. Modifying learning rates has some impact,\n",
    "# highest accuracy on validation set being about 70-75%. Stringing together a couple inception modules may help improve\n",
    "# the accuracy but even a single one takes some time to run.\n",
    "\n",
    "# Next we import the pretrained inception v3, and run it on this convnet. As one final test, we add a fully connected\n",
    "# layer at the beginning of the inception module."
   ]
  },
  {
   "cell_type": "code",
   "execution_count": 1,
   "metadata": {
    "collapsed": true
   },
   "outputs": [],
   "source": [
    "% matplotlib inline\n",
    "import tensorflow as tf\n",
    "import numpy as np\n",
    "import matplotlib.pyplot as plt"
   ]
  },
  {
   "cell_type": "code",
   "execution_count": null,
   "metadata": {},
   "outputs": [],
   "source": [
    "# MNIST parameters\n",
    "height = 28\n",
    "width = 28\n",
    "channels = 1\n",
    "n_inputs = height*width\n",
    "\n",
    "print(np.sqrt(2.)/np.sqrt(n_inputs))"
   ]
  },
  {
   "cell_type": "code",
   "execution_count": null,
   "metadata": {
    "collapsed": true
   },
   "outputs": [],
   "source": [
    "# Kernel sizes and # feature maps for convolutions in num*num format\n",
    "# We add a convolutional layer 0 with 32 filter maps to the front of the data before going into the bottleneck inception layers\n",
    "kern_conv0 = 2\n",
    "kern_conv1 = 1\n",
    "kern_conv2a = 1\n",
    "kern_conv2b = 3\n",
    "kern_conv3a = 1\n",
    "kern_conv3b = 5\n",
    "pool_kern4a = 3\n",
    "kern_conv4b = 1\n",
    "\n",
    "filter_maps_0 = 32\n",
    "filter_maps = 32\n",
    "filter_maps_bottleneck = 16\n",
    "fully_connected_maps = 300\n",
    "fully_connected_maps_2 = 10\n",
    "dropout_rate = 0.5"
   ]
  },
  {
   "cell_type": "code",
   "execution_count": null,
   "metadata": {},
   "outputs": [],
   "source": [
    "# Compute the Number of parameters in the model: in this model we only have one depth as the inputs are Greys.\n",
    "\n",
    "n_params_incept = (kern_conv1**2)*filter_maps + (kern_conv2a**2)*filter_maps_bottleneck + (kern_conv2b**2)*filter_maps\n",
    "+  (kern_conv3a**2)*filter_maps_bottleneck + (kern_conv3b**2)*filter_maps + (kern_conv4b**2)*filter_maps \n",
    "      \n",
    "print(28*28*300, n_params_incept)\n",
    "# significantly fewer parameters as far fewer feature maps. Try increasing number of feature maps. "
   ]
  },
  {
   "cell_type": "code",
   "execution_count": null,
   "metadata": {},
   "outputs": [],
   "source": [
    "tf.reset_default_graph()\n",
    "# reduce batch size from 100 to free up computational memory. \n",
    "batch_size = 50\n",
    "# Number of computations -- since all of these go into each of the layers at once:\n",
    "\n",
    "n_compute = batch_size*(28**2)*n_params_incept\n",
    "print(\"Number of Computations = \", n_compute)\n",
    "\n",
    "X = tf.placeholder(tf.float32, shape = [None, height, width, channels], name = \"X\")\n",
    "y = tf.placeholder(tf.int32, shape = [None], name = \"y\")\n",
    "training = tf.placeholder_with_default(False, shape = [], name = 'training')"
   ]
  },
  {
   "cell_type": "markdown",
   "metadata": {},
   "source": []
  },
  {
   "cell_type": "code",
   "execution_count": null,
   "metadata": {},
   "outputs": [],
   "source": [
    "def create_weights(size):\n",
    "    return tf.Variable(tf.truncated_normal(size, stddev =0.05)) # 0.05 comes from Xavier Initialization for weights. \n",
    "\n",
    "def create_bias(size):\n",
    "    return tf.Variable(tf.constant(0.1, shape = size))\n",
    "\n",
    "weights = {\n",
    "    'w_0': create_weights([kern_conv0, kern_conv0, channels, filter_maps_0]),\n",
    "    'w_1': create_weights([kern_conv1,kern_conv1, filter_maps_0, filter_maps]),\n",
    "    'w_2a': create_weights([kern_conv2a, kern_conv2a, filter_maps_0, filter_maps_bottleneck]),\n",
    "    'w_2b': create_weights([kern_conv2b, kern_conv2b, filter_maps_bottleneck, filter_maps]),\n",
    "    'w_3a': create_weights([kern_conv3a, kern_conv3a, filter_maps_0, filter_maps_bottleneck]),\n",
    "    'w_3b': create_weights([kern_conv3b, kern_conv3b, filter_maps_bottleneck, filter_maps]),\n",
    "    'w_4': create_weights([kern_conv4b, kern_conv4b, filter_maps_0, filter_maps]),\n",
    "}\n",
    "\n",
    "biases = {\n",
    "    'b_0': create_bias([filter_maps_0]),\n",
    "    'b_1': create_bias([filter_maps]),\n",
    "    'b_2a': create_bias([filter_maps_bottleneck]),\n",
    "    'b_2b': create_bias([filter_maps]),\n",
    "    'b_3a': create_bias([filter_maps_bottleneck]),\n",
    "    'b_3b': create_bias([filter_maps]),\n",
    "    'b_4': create_bias([filter_maps]),\n",
    "}\n"
   ]
  },
  {
   "cell_type": "code",
   "execution_count": null,
   "metadata": {
    "collapsed": true
   },
   "outputs": [],
   "source": [
    "# Take this out for now. \n",
    "initial_learning_rate = 0.001\n",
    "decay_steps = 10000\n",
    "decay_rate = 1/10\n"
   ]
  },
  {
   "cell_type": "code",
   "execution_count": null,
   "metadata": {},
   "outputs": [],
   "source": [
    "# Make Inception Module with a dropout layer with 50% dropout. To stack another inception module, just define more weights\n",
    "# and filters. \n",
    "\n",
    "def make_inception_network(X):\n",
    "    \n",
    "    conv_0 = tf.nn.conv2d(X, weights['w_0'], strides =[1, 1, 1, 1], padding = \"SAME\")\n",
    "    conv_0 = tf.nn.bias_add(conv_0, biases['b_0'])\n",
    "    conv_0 = tf.nn.relu(conv_0)\n",
    "    pool1 = tf.nn.max_pool(conv_0, ksize = [1, 2, 2, 1], strides = [1, 1, 1, 1], padding = \"SAME\")\n",
    "    \n",
    "    conv_1 = tf.nn.conv2d(pool1, weights['w_1'], strides =[1, 1, 1, 1], padding = \"SAME\")\n",
    "    conv_1 = tf.nn.bias_add(conv_1, biases['b_1'])\n",
    "    conv_1 = tf.nn.relu(conv_1)\n",
    "    \n",
    "    conv_2a = tf.nn.conv2d(pool1, weights['w_2a'], strides =[1, 1, 1, 1], padding = \"SAME\")\n",
    "    conv_2a = tf.nn.bias_add(conv_2a, biases['b_2a'])\n",
    "    conv_2a = tf.nn.relu(conv_2a)\n",
    "    \n",
    "    conv_2b = tf.nn.conv2d(conv_2a, weights['w_2b'], strides =[1, 1, 1, 1], padding = \"SAME\")\n",
    "    conv_2b = tf.nn.bias_add(conv_2b, biases['b_2b'])\n",
    "    conv_2b = tf.nn.relu(conv_2b)\n",
    "\n",
    "    conv_3a = tf.nn.conv2d(pool1, weights['w_3a'], strides =[1, 1, 1, 1], padding = \"SAME\")\n",
    "    conv_3a = tf.nn.bias_add(conv_3a, biases['b_3a'])\n",
    "    conv_3a = tf.nn.relu(conv_3a)\n",
    "    \n",
    "    conv_3b = tf.nn.conv2d(conv_3a, weights['w_3b'], strides =[1, 1, 1, 1], padding = \"SAME\")\n",
    "    conv_3b = tf.nn.bias_add(conv_3b, biases['b_3b'])\n",
    "    conv_3b = tf.nn.relu(conv_3b)\n",
    "\n",
    "    with tf.name_scope(\"pool\"):\n",
    "        max_pool = tf.nn.max_pool(pool1, ksize = [1, pool_kern4a, pool_kern4a, 1], strides = [1, 1, 1, 1], padding = \"SAME\")\n",
    "        conv_4b = tf.nn.conv2d(max_pool, weights['w_4'], strides =[1, 1, 1, 1], padding = \"SAME\")\n",
    "        conv_4b = tf.nn.bias_add(conv_4b, biases['b_4'])\n",
    "        conv_4b = tf.nn.relu(conv_4b)\n",
    "    \n",
    "    \n",
    "    inception = tf.nn.relu(tf.concat([conv_1, conv_2b, conv_3b, conv_4b], axis = 3))\n",
    "    incep_shape = inception.get_shape().as_list()\n",
    "\n",
    "    inception_reshape = tf.reshape(inception, shape =[-1, incep_shape[1]*incep_shape[2]*incep_shape[3]]) # 4 from the 4 conv layers.\n",
    "\n",
    "    fully_connected_inception = tf.layers.dense(inception_reshape, units = fully_connected_maps, activation = tf.nn.relu)\n",
    "    fc_drop = tf.layers.dropout(fully_connected_inception, dropout_rate, training=training)\n",
    "    print(\"is this working\")\n",
    "    \n",
    "    logits = tf.layers.dense(fc_drop, units = fully_connected_maps_2)\n",
    "    Y_proba = tf.nn.softmax(logits, name = \"Y_proba\")\n",
    "    \n",
    "    return logits\n",
    "# We introduce a regularization to avoid over fitting. Also perform learning rate scheduling\n",
    "\n",
    "with tf.name_scope(\"train\"):\n",
    "    logits = make_inception_network(X)\n",
    "    xentropy = tf.nn.sparse_softmax_cross_entropy_with_logits(labels=y, logits=logits)\n",
    "    #regularizer = tf.nn.l2_loss(weights['w_1']) + tf.nn.l2_loss(weights['w_2a']) + tf.nn.l2_loss(weights['w_2b']) + tf.nn.l2_loss(weights['w_3a']) + tf.nn.l2_loss(weights['w_3b']) + tf.nn.l2_loss(weights['w_4'])                   \n",
    "    loss = tf.reduce_mean(xentropy, name =\"loss\")\n",
    "    global_step = tf.Variable(0, trainable= False)\n",
    "    learning_rate = tf.train.exponential_decay(initial_learning_rate, global_step, decay_steps, decay_rate)\n",
    "    optimizer = tf.train.AdamOptimizer(learning_rate = 0.01)\n",
    "    training_op = optimizer.minimize(loss, global_step = global_step)\n",
    "\n",
    "with tf.name_scope(\"eval\"):\n",
    "    correct = tf.nn.in_top_k(logits, y, 1)\n",
    "    accuracy = tf.reduce_mean(tf.cast(correct, tf.float32))\n",
    "\n",
    "with tf.name_scope(\"init_and_save\"):\n",
    "    init = tf.global_variables_initializer()\n",
    "#    saver = tf.train.Saver()    "
   ]
  },
  {
   "cell_type": "code",
   "execution_count": null,
   "metadata": {
    "collapsed": true,
    "scrolled": true
   },
   "outputs": [],
   "source": [
    "# Now we test this code on MNIST:\n",
    "\n",
    "#from tensorflow.examples.tutorials.mnist import input_data\n",
    "#mnist = input_data.read_data_sets(\"/tmp/data\")\n",
    "\n",
    "# Let's also try on the MNISt dataset from scikit learn.\n",
    "\n",
    "from sklearn.datasets import fetch_mldata\n",
    "mnist = fetch_mldata('MNIST original')\n",
    "Xdata = mnist[\"data\"]\n",
    "ydata = mnist[\"target\"]\n",
    "\n",
    "np.random.seed(42)\n",
    "shuffle_idx = np.random.permutation(60000)\n",
    "X_data = Xdata[shuffle_idx]\n",
    "y_data = ydata[shuffle_idx]\n",
    "\n",
    "X_train = X_data[:50000]\n",
    "y_train = y_data[:50000].astype(np.int32)\n",
    "X_val = X_data[50000:]\n",
    "y_val = y_data[50000:].astype(np.int32)"
   ]
  },
  {
   "cell_type": "code",
   "execution_count": null,
   "metadata": {
    "collapsed": true
   },
   "outputs": [],
   "source": [
    "#X_train = mnist.train.images\n",
    "#X_val = mnist.validation.images\n",
    "#val_ave = np.mean(X_val)\n",
    "#val_std = np.std(X_val)\n",
    "#X_test = mnist.test.images\n",
    "#test_ave = np.mean(X_test)\n",
    "#test_std = np.std(X_test)\n",
    "\n",
    "\n",
    "#y_train = mnist.train.labels.astype(\"int32\")\n",
    "#y_val = mnist.validation.labels.astype(\"int32\")\n",
    "#y_test = mnist.test.labels.astype(\"int32\")\n",
    "\n",
    "# Don't subtract mean and std dev from dataset. conv2d does that automatically. \n",
    "#X_val_final = np.reshape(((X_val - val_ave)/(val_std)), [len(X_val), height, width, channels])\n",
    "#X_test_final = np.reshape(((X_test - test_ave)/(test_std)), [len(X_test), height, width, channels])\n",
    "#X_test_norm = (X_test_final - np.mean(X_test_final, keepdims = True))/(np.std(X_test_final, keepdims = True)).astype(np.float32)\n",
    "#print(len(X_train), len(X_test), X_test_final.shape)"
   ]
  },
  {
   "cell_type": "code",
   "execution_count": null,
   "metadata": {
    "collapsed": true
   },
   "outputs": [],
   "source": [
    "from sklearn.preprocessing import MinMaxScaler\n",
    "scaler = MinMaxScaler()\n",
    "\n",
    "X_scaled = scaler.fit_transform(X_train.astype(np.float32))\n",
    "X_scaled_val = scaler.fit_transform(X_val.astype(np.float32))\n",
    "mean = np.mean(X_scaled)\n",
    "mean_val = np.mean(X_scaled_val)\n",
    "std = np.std(X_scaled)\n",
    "std_val = np.std(X_scaled_val)\n",
    "\n",
    "X_train_scaled = (X_scaled - mean)/std\n",
    "X_val_scaled = np.reshape((X_scaled_val - mean_val)/std_val, (-1, 28, 28, 1))"
   ]
  },
  {
   "cell_type": "code",
   "execution_count": null,
   "metadata": {
    "collapsed": true
   },
   "outputs": [],
   "source": [
    "#np.random.seed(42)\n",
    "#shuffle_index = np.random.permutation(len(X_train))\n",
    "#X_train_shuffled = X_train[shuffle_index]\n",
    "#X_train_shuffled_reshape = np.reshape(X_train_shuffled, [len(X_train), 28, 28, 1])\n",
    "#y_train_shuffled = y_train[shuffle_index]"
   ]
  },
  {
   "cell_type": "code",
   "execution_count": null,
   "metadata": {},
   "outputs": [],
   "source": [
    "fig = plt.figure()\n",
    "plt.subplot(221)\n",
    "plot_test = np.reshape(X_scaled[260], (28, 28))\n",
    "plt.imshow(plot_test, cmap = 'Greys' , interpolation = 'nearest', label = 'Training Digits')\n",
    "#print(y_train[260], type(y_train[260]))\n",
    "#print((X_train_scaled).shape)\n",
    "plt.subplot(222)\n",
    "plot_test = np.reshape(X_scaled[1001], (28, 28))\n",
    "plt.imshow(plot_test, cmap = 'Greys' , interpolation = 'nearest', label = 'Training Digits')\n",
    "#print(y_train[260], type(y_train[260]))\n",
    "#print((X_train_scaled).shape)\n",
    "plt.subplot(223)\n",
    "plot_test = np.reshape(X_scaled[20000], (28, 28))\n",
    "plt.imshow(plot_test, cmap = 'Greys' , interpolation = 'nearest', label = 'Training Digits')\n",
    "#print(y_train[260], type(y_train[260]))\n",
    "#print((X_train_scaled).shape)\n",
    "plt.subplot(224)\n",
    "plot_test = np.reshape(X_scaled[25000], (28, 28))\n",
    "plt.imshow(plot_test, cmap = 'Greys' , interpolation = 'nearest', label = 'Training Digits')\n",
    "#print(y_train[260], type(y_train[260]))\n",
    "print((X_train_scaled).shape)#\n",
    "plt.suptitle('Sample Training Images')"
   ]
  },
  {
   "cell_type": "code",
   "execution_count": null,
   "metadata": {
    "collapsed": true
   },
   "outputs": [],
   "source": [
    "# Plot the training images\n",
    "plt.figure()\n",
    "one_train_images=[] \n",
    "for iter in range(4):\n",
    "    one_train_images.append(np.reshape(X_train_shuffled[iter+250], (28, 28)))\n",
    "\n",
    "plt.subplot(221)\n",
    "plt.imshow(one_train_images[0], cmap = 'Greys', interpolation = 'nearest')\n",
    "plt.axis(\"off\")\n",
    "plt.subplot(222)\n",
    "plt.imshow(one_train_images[1], cmap = 'Greys', interpolation = 'nearest')\n",
    "plt.axis(\"off\")\n",
    "plt.subplot(223)\n",
    "plt.imshow(one_train_images[2], cmap = 'Greys', interpolation = 'nearest')\n",
    "plt.axis(\"off\")\n",
    "plt.subplot(224)\n",
    "plt.imshow(one_train_images[3], cmap = 'Greys', interpolation = 'nearest')\n",
    "plt.axis(\"off\")\n",
    "plt.show()"
   ]
  },
  {
   "cell_type": "code",
   "execution_count": null,
   "metadata": {
    "collapsed": true
   },
   "outputs": [],
   "source": []
  },
  {
   "cell_type": "code",
   "execution_count": null,
   "metadata": {},
   "outputs": [],
   "source": [
    "# With the shuffled training set, we are now ready to make batches. We zero mean and unit std dev the batches. \n",
    "# Validation/Test data also has unit mean and 1 std.\n",
    "batch_size = 50\n",
    "def fetch_batches(X, y, batch_size):\n",
    "    np.random.seed(42)\n",
    "    iters = np.random.permutation(range(batch_size))\n",
    "    X_batch = X[iters]\n",
    "    batch_mean = np.mean(X_batch)\n",
    "    batch_std = np.std(X_batch)\n",
    "    y_batch = y[iters]\n",
    "    return np.reshape((X_batch - batch_mean)/batch_std, (-1, 28, 28, 1)), y_batch.astype(np.int32)\n",
    "\n",
    "np.mean(fetch_batches(X_train_scaled, y_train, batch_size)[0])\n",
    "print(fetch_batches(X_train_scaled, y_train, batch_size)[0].shape)"
   ]
  },
  {
   "cell_type": "code",
   "execution_count": null,
   "metadata": {},
   "outputs": [],
   "source": [
    "n_epochs = 5\n",
    "n_batches = len(X_train_scaled)//batch_size\n",
    "print(n_batches)"
   ]
  },
  {
   "cell_type": "code",
   "execution_count": null,
   "metadata": {
    "scrolled": false
   },
   "outputs": [],
   "source": [
    "acc_epoch = np.zeros((n_epochs), dtype = float)\n",
    "epoch_loss = np.zeros((n_epochs), dtype = float)\n",
    "train_epoch = np.zeros((n_epochs), dtype = float)\n",
    "init = tf.global_variables_initializer()\n",
    "\n",
    "with tf.Session() as sess:\n",
    "    sess.run(init)\n",
    "    for epoch in range(n_epochs):\n",
    "        print(\"epoch =\", epoch)\n",
    "        for iterator in range(n_batches):\n",
    "            X_batch, y_batch = fetch_batches(X_train_scaled, y_train, batch_size)\n",
    "            _, loss_val = sess.run([training_op, loss], feed_dict= {X: X_batch, y: y_batch, training: True})\n",
    "            if iterator % 100 == 0:\n",
    "                print(\"minibatch loss = \", loss_val)\n",
    "                print(\"iterator =\", iterator, \"validation accuracy =\", accuracy.eval(feed_dict= {X: X_val_scaled, y: y_val}))\n",
    "        acc_train = accuracy.eval(feed_dict= {X: X_batch, y: y_batch, training: True})\n",
    "        acc_test = accuracy.eval(feed_dict= {X: X_val_scaled, y: y_val})\n",
    "        #Z = logits.eval(feed_dict = {X: X_val_scaled[:20]})\n",
    "        #y_pred = np.argmax(Z, axis=1)\n",
    "        acc_epoch[epoch] = acc_test\n",
    "        epoch_loss[epoch] = loss_val\n",
    "        train_epoch[epoch] = acc_train\n",
    "        print(\"Training Accuracy = \", acc_train, \", Test Accuracy = \", acc_test)\n",
    "        #print(\"Loss = \", loss)\n",
    "        \n",
    "    #save_path = saver.save(sess, \"./my_mnist_model\")\n",
    "sess.close()"
   ]
  },
  {
   "cell_type": "code",
   "execution_count": null,
   "metadata": {
    "collapsed": true
   },
   "outputs": [],
   "source": [
    "acc_train_data = [0.89, 0.86,0.85,0.93,0.96,0.94,0.95,0.95,0.91,0.91,0.95,0.94,0.93,0.94, 0.97]\n",
    "acc_test_data = [0.09, 0.6678, 0.6318,0.624,0.6445,0.6125,0.6212,0.6208,0.6197,0.6148,0.6133,0.6151,0.613,0.616, 0.5965]\n",
    "\n",
    "plt.plot(acc_test_data, 'r', label = 'Validation')\n",
    "plt.plot(acc_train_data, 'b', label = 'Training')\n",
    "plt.xlabel(\"epoch\")\n",
    "plt.ylabel(\"Accuracy\")\n",
    "plt.axis()\n",
    "plt.legend()"
   ]
  },
  {
   "cell_type": "code",
   "execution_count": 257,
   "metadata": {
    "scrolled": true
   },
   "outputs": [
    {
     "data": {
      "text/plain": [
       "'/Users/stefan/Python_notebooks/MNIST/trainingSample'"
      ]
     },
     "execution_count": 257,
     "metadata": {},
     "output_type": "execute_result"
    }
   ],
   "source": [
    "# Convert MNIST data to jpegs. \n",
    "import os\n",
    "mnist_path = os.getcwd()\n",
    "mnist_path_full = os.path.join(mnist_path, \"MNIST/trainingSample\")\n",
    "\n",
    "mnist_path_full"
   ]
  },
  {
   "cell_type": "code",
   "execution_count": 258,
   "metadata": {},
   "outputs": [],
   "source": [
    "# Make the dataset as in the flowers data:\n",
    "\n",
    "# Following Geron, we list all the image file paths, and sort them.\n",
    "from collections import defaultdict\n",
    "image_paths = defaultdict(list)\n",
    "\n",
    "mnist_classes = sorted([dirname for dirname in os.listdir(mnist_path_full)\n",
    "                  if os.path.isdir(os.path.join(mnist_path_full, dirname))])\n",
    "\n",
    "mnist_classes\n",
    "\n",
    "for numbers in mnist_classes:\n",
    "    root_image_path = os.path.join(mnist_path_full, numbers)\n",
    "    for filepath in os.listdir(root_image_path):\n",
    "        if filepath.endswith(\"jpg\"):\n",
    "            image_paths[numbers].append(os.path.join(root_image_path, filepath))\n",
    "            \n"
   ]
  },
  {
   "cell_type": "code",
   "execution_count": 259,
   "metadata": {},
   "outputs": [
    {
     "name": "stdout",
     "output_type": "stream",
     "text": [
      "(600, 2)\n"
     ]
    },
    {
     "data": {
      "text/plain": [
       "('/Users/stefan/Python_notebooks/MNIST/trainingSample/9/img_31.jpg', 9)"
      ]
     },
     "execution_count": 259,
     "metadata": {},
     "output_type": "execute_result"
    }
   ],
   "source": [
    "mnist_train_paths = []\n",
    "\n",
    "keys = []\n",
    "\n",
    "for numbers in image_paths.keys():\n",
    "    keys.append(numbers)\n",
    "    \n",
    "key_num = []\n",
    "counter = 0\n",
    "for key in keys:\n",
    "    key_num.append(counter)\n",
    "    counter+=1\n",
    "\n",
    "counter = 0\n",
    "for numbs in keys:\n",
    "    num = key_num[counter]\n",
    "    for path in image_paths[numbs]:\n",
    "        mnist_train_paths.append((path, num))\n",
    "    counter+=1\n",
    "\n",
    "print(np.shape(mnist_train_paths))\n",
    "val_train_split = 0.2\n",
    "mnist_train_length = int(len(mnist_train_paths)*(1-0.2))\n",
    "#print(mnist_train_length)\n",
    "#print(mnist_train_paths[1])\n",
    "\n",
    "# Randomly shuffle and split into training and validation set. \n",
    "\n",
    "mnist_train_paths_shuff = []\n",
    "from random import shuffle\n",
    "np.random.seed(42)\n",
    "idx = np.random.permutation(len(mnist_train_paths))\n",
    "\n",
    "[mnist_train_paths_shuff.append(mnist_train_paths[item]) for item in idx]\n",
    "\n",
    "mnist_train_paths = mnist_train_paths_shuff[:mnist_train_length]\n",
    "mnist_val_paths = mnist_train_paths_shuff[mnist_train_length:]\n",
    "\n",
    "mnist_val_paths[1]"
   ]
  },
  {
   "cell_type": "code",
   "execution_count": 260,
   "metadata": {},
   "outputs": [],
   "source": [
    "# Given the tiny size of the training data -- we prepare an augmented set. Given an input data, this function returns\n",
    "# 6 more images -- shifted, flipped and rotated + original image. \n",
    "\n",
    "from scipy import ndimage\n",
    "from scipy.ndimage.interpolation import shift\n",
    "\n",
    "def shift_image(image, dx, dy):\n",
    "    image = image.reshape((28, 28))\n",
    "    shifted_image = shift(image, [dy, dx], cval=0, mode=\"constant\")\n",
    "    return shifted_image.reshape((28, 28))\n",
    "\n",
    "def mnist_aug(image, label, height = 28, width = 28):\n",
    "        \n",
    "        angle = np.random.randint(0, 90)\n",
    "        rot_image = (ndimage.rotate(image, angle)/np.float(255), label)\n",
    "    \n",
    "        flip_image = (np.flipud(image)/np.float(255), label)\n",
    "        \n",
    "        noise = np.random.rand()\n",
    "        noisy_image = ((image + noise)/np.float(255), label)\n",
    "        \n",
    "        shift_xx = (shift_image(image/np.float(255), -2, 0), label)\n",
    "        shift_xy = (shift_image(image/np.float(255), 0, -2), label)\n",
    "        shift_yx = (shift_image(image/np.float(255), 2, 0), label)\n",
    "        shift_yy = (shift_image(image/np.float(255), 0, 2), label)\n",
    "        \n",
    "        return (image/np.float(255), label), rot_image, flip_image, noisy_image, shift_xx, shift_xy, shift_yx, shift_yy        "
   ]
  },
  {
   "cell_type": "code",
   "execution_count": 262,
   "metadata": {},
   "outputs": [
    {
     "name": "stdout",
     "output_type": "stream",
     "text": [
      "1\n"
     ]
    },
    {
     "data": {
      "text/plain": [
       "<matplotlib.image.AxesImage at 0x15f7bda58>"
      ]
     },
     "execution_count": 262,
     "metadata": {},
     "output_type": "execute_result"
    },
    {
     "data": {
      "image/png": "[encoded data removed]",
      "text/plain": [
       "<matplotlib.figure.Figure at 0x147dd0588>"
      ]
     },
     "metadata": {},
     "output_type": "display_data"
    }
   ],
   "source": [
    "print(mnist_train_paths[0][1])\n",
    "new_set = mnist_aug(mpimg.imread(mnist_train_paths[10][0]), mnist_train_paths[10][1])\n",
    "\n",
    "plt.figure()\n",
    "\n",
    "plt.subplot(331)\n",
    "plt.imshow(new_set[0][0])\n",
    "plt.subplot(332)\n",
    "plt.imshow(new_set[1][0])\n",
    "plt.subplot(333)\n",
    "plt.imshow(new_set[2][0])\n",
    "plt.subplot(334)\n",
    "plt.imshow(new_set[3][0])\n",
    "plt.subplot(335)\n",
    "plt.imshow(new_set[4][0])\n",
    "plt.subplot(336)\n",
    "plt.imshow(new_set[5][0])\n"
   ]
  },
  {
   "cell_type": "code",
   "execution_count": 98,
   "metadata": {},
   "outputs": [
    {
     "name": "stdout",
     "output_type": "stream",
     "text": [
      "(2, 2, 2)\n"
     ]
    },
    {
     "data": {
      "text/plain": [
       "array([[ 0,  1],\n",
       "       [ 1,  2],\n",
       "       [-1,  3],\n",
       "       [ 3,  1]])"
      ]
     },
     "execution_count": 98,
     "metadata": {},
     "output_type": "execute_result"
    }
   ],
   "source": [
    "test_array = np.array([[(0, 1), (1, 2)], [(-1, 3), (3, 1)]])\n",
    "print(np.shape(test_array))\n",
    "test_array_flatten = np.ravel(test_array)\n",
    "test_array_flatten\n",
    "test_array_reshape = np.reshape(test_array, (4, 2))\n",
    "test_array_reshape"
   ]
  },
  {
   "cell_type": "code",
   "execution_count": 263,
   "metadata": {},
   "outputs": [
    {
     "data": {
      "text/plain": [
       "(3840, 2)"
      ]
     },
     "execution_count": 263,
     "metadata": {},
     "output_type": "execute_result"
    }
   ],
   "source": [
    "# Now we generate a larger training set!\n",
    "full_mnist_train_paths = np.reshape([mnist_aug(mpimg.imread(image), label) for image, label in mnist_train_paths], (480*8, 2))\n",
    "np.shape(full_mnist_train_paths)"
   ]
  },
  {
   "cell_type": "code",
   "execution_count": 264,
   "metadata": {},
   "outputs": [
    {
     "data": {
      "text/plain": [
       "(28, 28)"
      ]
     },
     "execution_count": 264,
     "metadata": {},
     "output_type": "execute_result"
    }
   ],
   "source": [
    "np.shape(full_mnist_train_paths[56][0])"
   ]
  },
  {
   "cell_type": "markdown",
   "metadata": {},
   "source": []
  },
  {
   "cell_type": "code",
   "execution_count": 265,
   "metadata": {},
   "outputs": [],
   "source": [
    "mnist_train_paths = full_mnist_train_paths\n",
    "# Normalize the validation paths to be at 1.0\n",
    "mnist_val_paths = [(mpimg.imread(path)/np.float(255), label) for path, label in mnist_val_paths]\n"
   ]
  },
  {
   "cell_type": "code",
   "execution_count": 154,
   "metadata": {},
   "outputs": [],
   "source": []
  },
  {
   "cell_type": "code",
   "execution_count": 266,
   "metadata": {},
   "outputs": [
    {
     "name": "stdout",
     "output_type": "stream",
     "text": [
      "(120, 2)\n",
      "(299, 299)\n"
     ]
    }
   ],
   "source": [
    "print(np.shape(mnist_val_paths))\n",
    "\n",
    "# Finally we resize the images to 299 x 299 so the validation classifier can read it. \n",
    "height = 299\n",
    "width = 299\n",
    "mnist_val_paths = [(imresize(path ,(height, width)), labels) for path, labels in mnist_val_paths]\n",
    "\n",
    "print(np.shape(mnist_val_paths[0][0]))"
   ]
  },
  {
   "cell_type": "code",
   "execution_count": 267,
   "metadata": {},
   "outputs": [],
   "source": [
    "np.random.seed(42)\n",
    "import matplotlib.image as mpimg\n",
    "from scipy.misc import imresize \n",
    "from random import sample\n",
    "\n",
    "height = 299\n",
    "width = 299\n",
    "channels = 3 # need 3 channels -- just make 3 copies of the data in a channel dimension. \n",
    "\n",
    "def prep_batches(mnist_paths, batch_size):\n",
    "    batch_mnist_paths = sample(list(mnist_paths), batch_size)\n",
    "    padded_images = [imresize(path,(height, width)) for path, labels in batch_mnist_paths]\n",
    "    channel_images =[np.stack([padded_images[item], padded_images[item], padded_images[item]], axis = 2) for item in range(len(padded_images))]\n",
    "    #images = [np.reshape(channel_images)[:, :, :channels] for path, labels in batch_mnist_paths]\n",
    "    #final_images = [data_crop_and_aug(image) for image in images]\n",
    "    X_batch = 2*np.stack(channel_images) -1\n",
    "    y_batch = np.array([labels for path, labels in batch_mnist_paths],dtype = np.int32)\n",
    "    return X_batch, y_batch"
   ]
  },
  {
   "cell_type": "code",
   "execution_count": 274,
   "metadata": {},
   "outputs": [],
   "source": [
    "# Stack the paths to lie between -1 and 1.\n",
    "\n",
    "X_val =  2*np.stack([np.stack([array, array, array], axis=2) for array, labels in mnist_val_paths])-1\n",
    "y_val  = np.array([labels for array, labels in mnist_val_paths], dtype = np.int32)\n"
   ]
  },
  {
   "cell_type": "code",
   "execution_count": 272,
   "metadata": {},
   "outputs": [
    {
     "data": {
      "text/plain": [
       "array([4, 9, 8, 7, 1, 3, 7, 9, 9, 3, 5, 2, 1, 4, 3, 1, 6, 0, 0, 6], dtype=int32)"
      ]
     },
     "execution_count": 272,
     "metadata": {},
     "output_type": "execute_result"
    }
   ],
   "source": [
    "y_val[0:20]"
   ]
  },
  {
   "cell_type": "code",
   "execution_count": 277,
   "metadata": {},
   "outputs": [
    {
     "data": {
      "text/plain": [
       "<matplotlib.image.AxesImage at 0x1484722e8>"
      ]
     },
     "execution_count": 277,
     "metadata": {},
     "output_type": "execute_result"
    },
    {
     "data": {
      "image/png": "[encoded data removed]",
      "text/plain": [
       "<matplotlib.figure.Figure at 0x13fd62b70>"
      ]
     },
     "metadata": {},
     "output_type": "display_data"
    }
   ],
   "source": [
    "X_val[0].shape\n",
    "\n",
    "\n",
    "plt.imshow(X_val[0])\n",
    "\n",
    "# 299*299*3 image."
   ]
  },
  {
   "cell_type": "code",
   "execution_count": 276,
   "metadata": {},
   "outputs": [
    {
     "name": "stdout",
     "output_type": "stream",
     "text": [
      "(10, 299, 299, 3)\n"
     ]
    },
    {
     "data": {
      "text/plain": [
       "<matplotlib.image.AxesImage at 0x15f98df98>"
      ]
     },
     "execution_count": 276,
     "metadata": {},
     "output_type": "execute_result"
    },
    {
     "data": {
      "image/png": "[encoded data removed]",
      "text/plain": [
       "<matplotlib.figure.Figure at 0x15f61b3c8>"
      ]
     },
     "metadata": {},
     "output_type": "display_data"
    }
   ],
   "source": [
    "X_batch, y_batch = prep_batches(mnist_train_paths, batch_size= 10)\n",
    "y_batch\n",
    "\n",
    "print(np.shape(X_batch))\n",
    "\n",
    "plt.imshow(X_batch[9])"
   ]
  },
  {
   "cell_type": "code",
   "execution_count": 278,
   "metadata": {},
   "outputs": [],
   "source": [
    "# Now we import the already pre-trained Inception v3 and train this on MNIST and our final image dataset. To do so,\n",
    "# we follow the approach taken in the flowers dataset. \n",
    "import tensorflow.contrib.slim as slim\n",
    "from tensorflow.contrib.slim.nets import inception\n",
    "\n",
    "\n",
    "tf.reset_default_graph()\n",
    "\n",
    "X = tf.placeholder(tf.float32, shape = [None, height, width, channels], name = \"X\")\n",
    "training = tf.placeholder_with_default(False, shape = [], name = 'training')\n",
    "\n",
    "with slim.arg_scope(inception.inception_v3_arg_scope()):\n",
    "    logits, end_points = inception.inception_v3(X, num_classes = 1001, is_training = training)\n",
    "# is training makes sure training is true. -- make sure to set this.\n",
    "inception_saver = tf.train.Saver()\n",
    "\n",
    "prelogits = tf.squeeze(end_points[\"PreLogits\"], axis = [1, 2])\n",
    "\n",
    "n_outputs = 10\n",
    "\n",
    "y = tf.placeholder(tf.int32, shape = [None], name = \"y\")\n",
    "\n",
    "mnist_logits = tf.layers.dense(prelogits, n_outputs, name = \"mnist_logits\")\n",
    "y_proba = tf.nn.softmax(mnist_logits, name = \"y_proba\")\n",
    "\n",
    "with tf.name_scope(\"train\"):\n",
    "    xentropy = tf.nn.sparse_softmax_cross_entropy_with_logits(logits = mnist_logits, labels = y)\n",
    "    loss = tf.reduce_mean(xentropy)\n",
    "    optimizer = tf.train.GradientDescentOptimizer(learning_rate = 0.001)\n",
    "    mnist_vars = tf.get_collection(tf.GraphKeys.TRAINABLE_VARIABLES, scope = \"mnist_logits\")\n",
    "    training_op = optimizer.minimize(loss, var_list = mnist_vars)\n",
    "\n",
    "with tf.name_scope(\"correct\"):\n",
    "    correct = tf.nn.in_top_k(mnist_logits, y, 1)\n",
    "    accuracy = tf.reduce_mean(tf.cast(correct, tf.float32))\n",
    "    \n",
    "init = tf.global_variables_initializer()\n",
    "saver = tf.train.Saver()\n"
   ]
  },
  {
   "cell_type": "code",
   "execution_count": null,
   "metadata": {},
   "outputs": [],
   "source": [
    "end_points"
   ]
  },
  {
   "cell_type": "code",
   "execution_count": 279,
   "metadata": {},
   "outputs": [
    {
     "name": "stdout",
     "output_type": "stream",
     "text": [
      "3840\n"
     ]
    },
    {
     "data": {
      "text/plain": [
       "76"
      ]
     },
     "execution_count": 279,
     "metadata": {},
     "output_type": "execute_result"
    }
   ],
   "source": [
    "batch_size = 50\n",
    "n_epochs = 50\n",
    "n_batches = len(mnist_train_paths)//batch_size\n",
    "\n",
    "print(len(mnist_train_paths))\n",
    "n_batches"
   ]
  },
  {
   "cell_type": "code",
   "execution_count": 280,
   "metadata": {},
   "outputs": [
    {
     "name": "stdout",
     "output_type": "stream",
     "text": [
      "/Users/stefan/Python_notebooks\n"
     ]
    }
   ],
   "source": [
    "my_path = os.getcwd()\n",
    "print(my_path)\n",
    "INCEPTION_V3_CHECKPOINT_PATH = os.path.join(my_path, \"inception_v3.ckpt\")"
   ]
  },
  {
   "cell_type": "code",
   "execution_count": null,
   "metadata": {},
   "outputs": [
    {
     "name": "stdout",
     "output_type": "stream",
     "text": [
      "INFO:tensorflow:Restoring parameters from /Users/stefan/Python_notebooks/inception_v3.ckpt\n",
      "epoch = 0\n"
     ]
    }
   ],
   "source": [
    "#tf.reset_default_graph()\n",
    "acc_epoch = np.zeros((n_epochs), dtype = float)\n",
    "epoch_loss = np.zeros((n_epochs), dtype = float)\n",
    "train_epoch = np.zeros((n_epochs), dtype = float)\n",
    "val_epoch = np.zeros((n_epochs), dtype = float)\n",
    "\n",
    "with tf.Session() as sess:\n",
    "    \n",
    "    init.run()\n",
    "    inception_saver.restore(sess, INCEPTION_V3_CHECKPOINT_PATH)\n",
    "    \n",
    "    for epoch in range(n_epochs):\n",
    "        print(\"epoch =\", epoch)\n",
    "        for iterator in range(n_batches):\n",
    "            X_batch, y_batch = prep_batches(mnist_train_paths, batch_size = batch_size)\n",
    "            _, loss_val = sess.run([training_op, loss], feed_dict= {X: X_batch, y: y_batch, training: True})\n",
    "        acc_train = accuracy.eval(feed_dict= {X: X_batch, y: y_batch, training: True})\n",
    "        acc_val = accuracy.eval(feed_dict= {X: X_val, y: y_val, training: training})\n",
    "        val_epoch[epoch] = acc_val\n",
    "        train_epoch[epoch] = acc_train\n",
    "        print(\"Training Accuracy = \", acc_train, \"Validation Accuracy=\", acc_val)\n",
    "        \n",
    "        \n",
    "    #save_path = saver.save(sess, \"./my_mnist_model\")\n",
    "sess.close()"
   ]
  },
  {
   "cell_type": "code",
   "execution_count": 188,
   "metadata": {},
   "outputs": [
    {
     "data": {
      "text/plain": [
       "'/Users/stefan/Python_notebooks/MNIST_inception_training_acc.png'"
      ]
     },
     "execution_count": 188,
     "metadata": {},
     "output_type": "execute_result"
    }
   ],
   "source": [
    "fig_paths = os.path.join(my_path, \"MNIST_inception_training_acc.png\")\n",
    "fig_paths"
   ]
  },
  {
   "cell_type": "code",
   "execution_count": 189,
   "metadata": {},
   "outputs": [
    {
     "data": {
      "image/png": "[encoded data removed]",
      "text/plain": [
       "<matplotlib.figure.Figure at 0x132870710>"
      ]
     },
     "metadata": {},
     "output_type": "display_data"
    }
   ],
   "source": [
    "prev_train_epoch = train_epoch\n",
    "plt.plot(train_epoch)\n",
    "plt.xlabel('epoch', fontsize = 16)\n",
    "plt.ylabel('Training Accuracy', fontsize = 16)\n",
    "plt.savefig(fig_paths)"
   ]
  },
  {
   "cell_type": "code",
   "execution_count": null,
   "metadata": {
    "collapsed": true
   },
   "outputs": [],
   "source": [
    "mylist = np.zeros(5)\n",
    "\n",
    "for epoch in range(5):\n",
    "    mylist[epoch] = epoch\n",
    "\n",
    "mylist"
   ]
  },
  {
   "cell_type": "code",
   "execution_count": null,
   "metadata": {
    "collapsed": true
   },
   "outputs": [],
   "source": [
    "# Now we apply the transfer learning on Inception to the Traffic Signs dataset. "
   ]
  },
  {
   "cell_type": "code",
   "execution_count": 196,
   "metadata": {
    "collapsed": true
   },
   "outputs": [],
   "source": [
    "import os\n",
    "PATH = os.getcwd()\n",
    "n_channels = 3"
   ]
  },
  {
   "cell_type": "code",
   "execution_count": 197,
   "metadata": {},
   "outputs": [],
   "source": [
    "# Next we implement the inception on the German traffic signs dataset.\n",
    "\n",
    "traffic_root_path = os.path.join(PATH, 'GTSRB/Final_Training/Images')\n",
    "\n",
    "traffic_classes = sorted([dirname for dirname in os.listdir(traffic_root_path)\n",
    "                         if os.path.isdir(os.path.join(traffic_root_path, dirname))])\n",
    "#traffic_classes"
   ]
  },
  {
   "cell_type": "code",
   "execution_count": 198,
   "metadata": {
    "collapsed": true
   },
   "outputs": [],
   "source": [
    "# Next we list the image file paths for each class.\n",
    "\n",
    "from collections import defaultdict\n",
    "\n",
    "image_paths = defaultdict(list)\n",
    "\n",
    "for traffic_signs in traffic_classes:\n",
    "    image_dir = os.path.join(traffic_root_path, traffic_signs)\n",
    "    for filepath in os.listdir(image_dir):\n",
    "        if filepath.endswith(\".ppm\"):\n",
    "            image_paths[traffic_signs].append(os.path.join(image_dir, filepath))"
   ]
  },
  {
   "cell_type": "code",
   "execution_count": 199,
   "metadata": {},
   "outputs": [
    {
     "data": {
      "image/png": "[encoded data removed]",
      "text/plain": [
       "<matplotlib.figure.Figure at 0x132a1c860>"
      ]
     },
     "metadata": {},
     "output_type": "display_data"
    },
    {
     "data": {
      "image/png": "[encoded data removed]",
      "text/plain": [
       "<matplotlib.figure.Figure at 0x13330df60>"
      ]
     },
     "metadata": {},
     "output_type": "display_data"
    },
    {
     "data": {
      "image/png": "[encoded data removed]",
      "text/plain": [
       "<matplotlib.figure.Figure at 0x1333b9860>"
      ]
     },
     "metadata": {},
     "output_type": "display_data"
    },
    {
     "data": {
      "image/png": "[encoded data removed]",
      "text/plain": [
       "<matplotlib.figure.Figure at 0x13df9cdd8>"
      ]
     },
     "metadata": {},
     "output_type": "display_data"
    },
    {
     "data": {
      "image/png": "[encoded data removed]",
      "text/plain": [
       "<matplotlib.figure.Figure at 0x13e495f60>"
      ]
     },
     "metadata": {},
     "output_type": "display_data"
    }
   ],
   "source": [
    "# Next we see if we are getting the pictures we want. Image Paths is a dictionary and must be called as such.\n",
    "\n",
    "import matplotlib.image as mpimg\n",
    "\n",
    "images_per_class = 2\n",
    "\n",
    "for traffic_class in traffic_classes[10:15]:\n",
    "    plt.figure(figsize = (5, 5))\n",
    "    for index, filename in enumerate(image_paths[traffic_class][:images_per_class]):\n",
    "        my_image = mpimg.imread(filename)[:, :, :n_channels]\n",
    "        plt.subplot(100 + images_per_class * 10 + index + 1)\n",
    "        plt.title(\"{}x{}\".format(my_image.shape[1], my_image.shape[0]))\n",
    "        plt.imshow(my_image)\n",
    "        plt.axis(\"off\")\n",
    "    plt.show()                                            "
   ]
  },
  {
   "cell_type": "code",
   "execution_count": null,
   "metadata": {
    "collapsed": true
   },
   "outputs": [],
   "source": [
    "# Notice all image are different sizes. We will perform random transformations on these images and feed a constant size\n",
    "# to the neural network."
   ]
  },
  {
   "cell_type": "code",
   "execution_count": 200,
   "metadata": {
    "collapsed": true
   },
   "outputs": [],
   "source": [
    "img_sizes = []\n",
    "\n",
    "for traffic_class in traffic_classes:\n",
    "    for index, filename in enumerate(image_paths[traffic_class]):\n",
    "        my_image = mpimg.imread(filename)[:, :, :n_channels]\n",
    "        img_sizes.append([my_image.shape[0], my_image.shape[1]])"
   ]
  },
  {
   "cell_type": "code",
   "execution_count": null,
   "metadata": {
    "collapsed": true
   },
   "outputs": [],
   "source": []
  },
  {
   "cell_type": "code",
   "execution_count": 201,
   "metadata": {},
   "outputs": [
    {
     "data": {
      "text/plain": [
       "array([50, 50])"
      ]
     },
     "execution_count": 201,
     "metadata": {},
     "output_type": "execute_result"
    }
   ],
   "source": [
    "mean_dims = np.mean(img_sizes, axis=0).astype(int)\n",
    "mean_dims"
   ]
  },
  {
   "cell_type": "code",
   "execution_count": 202,
   "metadata": {
    "collapsed": true
   },
   "outputs": [],
   "source": [
    "# So the average size is 50 x 50, and we convert the dataset to a uniform standard. \n",
    "\n",
    "height = 299\n",
    "width = 299\n",
    "channels = n_channels\n",
    "ave_size = 50\n",
    "\n",
    "# we need to scale and convert images to 299x299 for Inception."
   ]
  },
  {
   "cell_type": "code",
   "execution_count": 245,
   "metadata": {},
   "outputs": [],
   "source": [
    "from scipy.misc import imresize \n",
    "from scipy import ndimage\n",
    "from scipy.ndimage.interpolation import shift\n",
    "\n",
    "\n",
    "#def shift_image(image, dx, dy):\n",
    "#    shifted_image = shift(image[:, :, channels], [dy, dx], cval=0, mode=\"constant\")\n",
    "#    print(\"worked\")\n",
    "#    return shifted_image.reshape([-1])\n",
    "\n",
    "# Convert images to squares. Add random noise, rotate image, flip image vertically, and spit out new image.\n",
    "# We may also generalize this to produce more training examples in the future. \n",
    "\n",
    "def img_square(image, zoom = 0.1, target_height = height, target_width = width):\n",
    "    height = np.shape(image)[1]\n",
    "    width = np.shape(image)[0]\n",
    "    img_aspect_ratio = np.shape(image)[1]/np.shape(image)[0]\n",
    "    check_size  = img_aspect_ratio < 1\n",
    "    crop_height = height if check_size else width\n",
    "    crop_width = width if check_size==False else height\n",
    "    \n",
    "    # Resize the aspect ratio by a random factor > 1\n",
    "    resize_factor = np.random.rand() * zoom + 1.0\n",
    "    crop_width = int(crop_width / resize_factor)\n",
    "    crop_height = int(crop_height / resize_factor)\n",
    "    \n",
    "    # Next, we can select a random location on the image for this bounding box.\n",
    "    x0 = 0#np.random.randint(0, width - crop_width)\n",
    "    y0 = 0 #np.random.randint(0, height - crop_height)\n",
    "    x1 = x0 + crop_width\n",
    "    y1 = y0 + crop_height\n",
    "    \n",
    "    new_image = image[x0:x1, y0:y1]\n",
    "    new_shape = new_image.shape\n",
    "    \n",
    "    if np.random.rand()<0.5:\n",
    "        angle = np.random.randint(0, 90)\n",
    "        new_image = ndimage.rotate(image, angle)\n",
    "    \n",
    "    if np.random.rand() < 0.5:\n",
    "        new_image = np.flipud(image)\n",
    "    \n",
    "    if np.random.rand() < 0.75:\n",
    "        noise = np.random.rand()\n",
    "        new_image = new_image + noise\n",
    "    \n",
    "    new_image = imresize(new_image,  (target_height, target_width, 3))\n",
    "    return new_image/np.float(255)\n",
    "    "
   ]
  },
  {
   "cell_type": "code",
   "execution_count": 243,
   "metadata": {},
   "outputs": [
    {
     "name": "stdout",
     "output_type": "stream",
     "text": [
      "orig shape= (37, 35, 3)\n",
      "80\n",
      "0.40448544968185074\n",
      "0.737855766906525\n",
      "final shape =  (299, 299, 3)\n",
      "0.992156862745\n"
     ]
    },
    {
     "data": {
      "image/png": "[encoded data removed]",
      "text/plain": [
       "<matplotlib.figure.Figure at 0x13e4b4278>"
      ]
     },
     "metadata": {},
     "output_type": "display_data"
    }
   ],
   "source": [
    "my_test_images  = mpimg.imread(image_paths[traffic_classes[10]][1]), mpimg.imread(image_paths[traffic_classes[42]][1])\n",
    "print(\"orig shape=\", np.shape(my_test_image))\n",
    "print(np.max(my_test_image))\n",
    "final_image = img_square(my_test_images[0])\n",
    "final_image2 = img_square(my_test_images[1])\n",
    "\n",
    "print(\"final shape = \", np.shape(final_image))\n",
    "print(np.max(final_image))\n",
    "plt.figure()\n",
    "plt.subplot(221)\n",
    "plt.imshow(my_test_images[0])\n",
    "plt.subplot(222)\n",
    "plt.imshow(final_image)\n",
    "plt.subplot(223)\n",
    "plt.imshow(my_test_images[1])\n",
    "plt.subplot(224)\n",
    "plt.imshow(final_image2)\n",
    "plt.show()"
   ]
  },
  {
   "cell_type": "code",
   "execution_count": 219,
   "metadata": {
    "collapsed": true
   },
   "outputs": [],
   "source": [
    "# Now we create a training dataset and a validation dataset. Training set is then shuffled for batch norm.\n",
    "traffic_class_paths = []\n",
    "\n",
    "for traffic in traffic_classes:\n",
    "    for index, path in enumerate(image_paths[traffic]):\n",
    "        image_dir = os.path.join(traffic_root_path, traffic)\n",
    "        traffic_class_paths.append((os.path.join(image_dir, path), traffic))\n",
    "            "
   ]
  },
  {
   "cell_type": "code",
   "execution_count": 232,
   "metadata": {
    "collapsed": true
   },
   "outputs": [],
   "source": [
    "# Shuffle the dataset before splitting into training and validation\n",
    "np.random.seed(42)\n",
    "from random import shuffle\n",
    "\n",
    "shuffle(traffic_class_paths)"
   ]
  },
  {
   "cell_type": "code",
   "execution_count": 235,
   "metadata": {},
   "outputs": [
    {
     "name": "stdout",
     "output_type": "stream",
     "text": [
      "31367 7842\n"
     ]
    },
    {
     "data": {
      "text/plain": [
       "[('/Users/stefan/Python_notebooks/GTSRB/Final_Training/Images/00017/00004_00001.ppm',\n",
       "  '00017')]"
      ]
     },
     "execution_count": 235,
     "metadata": {},
     "output_type": "execute_result"
    }
   ],
   "source": [
    "train_val_split = 0.2\n",
    "train_size = int(len(traffic_class_paths)*(1-train_val_split))\n",
    "\n",
    "train_set = traffic_class_paths[:train_size]\n",
    "val_set = traffic_class_paths[train_size:]\n",
    "\n",
    "print(len(train_set), len(val_set))\n",
    "train_set[:1]"
   ]
  },
  {
   "cell_type": "code",
   "execution_count": 236,
   "metadata": {},
   "outputs": [],
   "source": [
    "X_val = [imresize(mpimg.imread(path)/np.float(255), (height, width, channels)) for path, label in val_set]\n",
    "y_val = np.array([label for path, label in val_set], dtype = np.int32)"
   ]
  },
  {
   "cell_type": "code",
   "execution_count": 237,
   "metadata": {},
   "outputs": [
    {
     "data": {
      "text/plain": [
       "array([25,  7, 38, 13,  9, 11,  5,  5, 12,  8,  2, 13, 16, 25, 13], dtype=int32)"
      ]
     },
     "execution_count": 237,
     "metadata": {},
     "output_type": "execute_result"
    }
   ],
   "source": [
    "np.shape(X_val[0])\n",
    "\n",
    "y_val[0:15]\n",
    "\n",
    "# We have generated a random validation set!"
   ]
  },
  {
   "cell_type": "code",
   "execution_count": 238,
   "metadata": {
    "collapsed": true
   },
   "outputs": [],
   "source": [
    "from random import sample\n",
    "\n",
    "def get_batches(dataset, batch_size):\n",
    "    train_batch_paths = sample(dataset, batch_size)\n",
    "    train_batches = [mpimg.imread(path)[:, :, :channels].astype(np.float32) for path, labels in train_batch_paths]\n",
    "    final_train_batches  = [img_square(item) for item in train_batches]\n",
    "    # Normalize and zero mean the batches. \n",
    "    # If the images are being fed into Inception v3 then, need to stack them from -1 to 1. \n",
    "    train_batches = 2*np.stack(final_train_batches) -1\n",
    "    y_labels = np.array([labels for paths, labels in train_batch_paths], dtype = np.int32)\n",
    "    return train_batches, y_labels"
   ]
  },
  {
   "cell_type": "code",
   "execution_count": 251,
   "metadata": {},
   "outputs": [
    {
     "data": {
      "text/plain": [
       "array([ 6,  1,  1, 12, 12, 12,  2, 20, 35, 12,  7, 10, 11,  1,  2,  2,  8,\n",
       "       17, 11, 10, 18, 13,  2, 11, 10,  9, 25, 17,  5, 14, 10,  9, 17,  5,\n",
       "       11, 33, 13, 17,  5, 10, 40, 25, 12, 12, 28, 10, 13, 28, 11, 38, 40,\n",
       "       11,  4, 18, 11,  1, 15,  9,  9, 13,  2, 15, 10, 21, 30, 12, 22,  8,\n",
       "        1, 33, 13,  4, 35,  2, 13,  7,  1,  5,  4,  1, 35, 17,  2,  3,  2,\n",
       "       30,  1, 11, 10,  1,  9,  2, 33,  3, 23,  5,  9,  4, 36, 29], dtype=int32)"
      ]
     },
     "execution_count": 251,
     "metadata": {},
     "output_type": "execute_result"
    }
   ],
   "source": [
    "# This way we get random batches and labels. \n",
    "test_batch  = get_batches(train_set, 100)\n",
    "\n",
    "test_batch[1]"
   ]
  },
  {
   "cell_type": "code",
   "execution_count": 252,
   "metadata": {
    "collapsed": true
   },
   "outputs": [],
   "source": [
    "initial_learning_rate = 0.001\n",
    "decay_steps = 10000\n",
    "decay_rate = 1/10"
   ]
  },
  {
   "cell_type": "code",
   "execution_count": 253,
   "metadata": {
    "collapsed": true
   },
   "outputs": [],
   "source": [
    "# Now we are ready to begin training. As before we restart Inception.\n",
    "# We can now test the model on inceptionv3 to see what kind of training/validation accuracy we get!\n",
    "\n",
    "import tensorflow.contrib.slim as slim\n",
    "from tensorflow.contrib.slim.nets import inception\n",
    "\n",
    "\n",
    "tf.reset_default_graph()\n",
    "\n",
    "X = tf.placeholder(tf.float32, shape = [None, height, width, channels], name = \"X\")\n",
    "training = tf.placeholder_with_default(False, shape = [], name = 'training')\n",
    "\n",
    "with slim.arg_scope(inception.inception_v3_arg_scope()):\n",
    "    logits, end_points = inception.inception_v3(X, num_classes = 1001, is_training = training)\n",
    "# is training makes sure training is true. -- make sure to set this.\n",
    "inception_saver = tf.train.Saver()\n",
    "\n",
    "prelogits = tf.squeeze(end_points[\"PreLogits\"], axis = [1, 2])\n",
    "\n",
    "# 42 classes of labels. \n",
    "n_outputs = 42\n",
    "\n",
    "y = tf.placeholder(tf.int32, shape = [None], name = \"y\")\n",
    "\n",
    "traffic_logits = tf.layers.dense(prelogits, n_outputs, name = \"traffic_logits\")\n",
    "y_proba = tf.nn.softmax(traffic_logits, name = \"y_proba\")\n",
    "\n",
    "with tf.name_scope(\"train\"):\n",
    "    xentropy = tf.nn.sparse_softmax_cross_entropy_with_logits(logits = traffic_logits, labels = y)\n",
    "    loss = tf.reduce_mean(xentropy)\n",
    "    global_step = tf.Variable(0, trainable= False)\n",
    "    learning_rate = tf.train.exponential_decay(initial_learning_rate, global_step, decay_steps, decay_rate)\n",
    "    optimizer = tf.train.AdamOptimizer(learning_rate = learning_rate)\n",
    "    mnist_vars = tf.get_collection(tf.GraphKeys.TRAINABLE_VARIABLES, scope = \"traffic_logits\")\n",
    "    training_op = optimizer.minimize(loss, var_list = mnist_vars)\n",
    "\n",
    "with tf.name_scope(\"correct\"):\n",
    "    correct = tf.nn.in_top_k(traffic_logits, y, 1)\n",
    "    accuracy = tf.reduce_mean(tf.cast(correct, tf.float32))\n",
    "    \n",
    "init = tf.global_variables_initializer()\n",
    "saver = tf.train.Saver()"
   ]
  },
  {
   "cell_type": "code",
   "execution_count": 254,
   "metadata": {},
   "outputs": [
    {
     "name": "stdout",
     "output_type": "stream",
     "text": [
      "/Users/stefan/Python_notebooks\n"
     ]
    }
   ],
   "source": [
    "my_path = os.getcwd()\n",
    "print(my_path)\n",
    "INCEPTION_V3_CHECKPOINT_PATH = os.path.join(my_path, \"inception_v3.ckpt\")"
   ]
  },
  {
   "cell_type": "code",
   "execution_count": 282,
   "metadata": {},
   "outputs": [
    {
     "data": {
      "text/plain": [
       "313"
      ]
     },
     "execution_count": 282,
     "metadata": {},
     "output_type": "execute_result"
    }
   ],
   "source": [
    "batch_size = 100\n",
    "n_batches = len(train_set)//batch_size\n",
    "n_epochs = 50\n",
    "n_batches"
   ]
  },
  {
   "cell_type": "code",
   "execution_count": null,
   "metadata": {
    "collapsed": true
   },
   "outputs": [],
   "source": [
    "acc_epoch = np.zeros((n_epochs), dtype = float)\n",
    "epoch_loss = np.zeros((n_epochs), dtype = float)\n",
    "train_epoch = np.zeros((n_epochs), dtype = float)\n",
    "val_epoch = np.zeros((n_epochs), dtype = float)\n",
    "\n",
    "with tf.Session() as sess:\n",
    "    \n",
    "    init.run()\n",
    "    inception_saver.restore(sess, INCEPTION_V3_CHECKPOINT_PATH)\n",
    "    \n",
    "    for epoch in range(n_epochs):\n",
    "        print(\"epoch =\", epoch)\n",
    "        for iterator in range(n_batches):\n",
    "            X_batch, y_batch = get_batches(train_set, batch_size = batch_size)\n",
    "            _, loss_val = sess.run([training_op, loss], feed_dict= {X: X_batch, y: y_batch, training: True})\n",
    "        acc_train = accuracy.eval(feed_dict= {X: X_batch, y: y_batch, training: True})\n",
    "        acc_val = accuracy.eval(feed_dict= {X: X_val, y: y_val, training: training})\n",
    "        val_epoch[epoch] = acc_val\n",
    "        train_epoch[epoch] = acc_train\n",
    "        print(\"Training Accuracy = \", acc_train, \"Validation Accuracy=\", acc_val)\n",
    "        \n",
    "        \n",
    "    #save_path = saver.save(sess, \"./my_mnist_model\")\n",
    "sess.close()"
   ]
  }
 ],
 "metadata": {
  "kernelspec": {
   "display_name": "Python 3",
   "language": "python",
   "name": "python3"
  },
  "language_info": {
   "codemirror_mode": {
    "name": "ipython",
    "version": 3
   },
   "file_extension": ".py",
   "mimetype": "text/x-python",
   "name": "python",
   "nbconvert_exporter": "python",
   "pygments_lexer": "ipython3",
   "version": "3.6.1"
  }
 },
 "nbformat": 4,
 "nbformat_minor": 2
}
