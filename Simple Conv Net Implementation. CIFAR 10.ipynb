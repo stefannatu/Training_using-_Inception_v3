{
 "cells": [
  {
   "cell_type": "code",
   "execution_count": 1,
   "metadata": {
    "collapsed": true
   },
   "outputs": [],
   "source": [
    "# We implement a simple conv net using tensor flow and test it on the CIFAR 10 dataset. \n",
    "%matplotlib inline\n",
    "import pickle \n",
    "import os\n",
    "import numpy as np\n",
    "import sys\n",
    "import matplotlib\n",
    "import matplotlib.pyplot as plt\n",
    "cifar_10_dataset_folder_path = 'cifar-10-batches-py'"
   ]
  },
  {
   "cell_type": "code",
   "execution_count": 2,
   "metadata": {},
   "outputs": [
    {
     "data": {
      "text/plain": [
       "'/Users/stefan/Python_notebooks'"
      ]
     },
     "execution_count": 2,
     "metadata": {},
     "output_type": "execute_result"
    }
   ],
   "source": [
    "cwd = os.getcwd()\n",
    "cwd"
   ]
  },
  {
   "cell_type": "code",
   "execution_count": 3,
   "metadata": {},
   "outputs": [],
   "source": [
    "def load_cifar10_batch(filename):\n",
    "    with open(filename, 'rb') as f:\n",
    "        if sys.version_info[0] < 3:\n",
    "            dict = pickle.load(f)\n",
    "        else:\n",
    "            dict = pickle.load(f, encoding='latin1')\n",
    "    x = dict['data']\n",
    "    y = dict['labels']\n",
    "    x = x.astype(float)\n",
    "    y = np.array(y)\n",
    "    return x, y\n",
    "\n",
    "def load_data():\n",
    "    xs = []\n",
    "    ys = []\n",
    "    \n",
    "    for i in range(1, 6):\n",
    "        filename = 'cifar-10-batches-py/data_batch_' + str(i)\n",
    "        X, Y = load_cifar10_batch(filename)\n",
    "        xs.append(X)\n",
    "        ys.append(Y)\n",
    "    x_train = np.concatenate(xs)/np.float(255)\n",
    "    x_train = np.dstack((x_train[:, :1024], x_train[:, 1024:2048], x_train[:, 2048:]))\n",
    "    x_train_full = x_train.reshape((x_train.shape[0], 32, 32, 3))\n",
    "    x_train = x_train_full[:40000]\n",
    "    x_val = x_train_full[40000:]\n",
    "    y_train_full = np.concatenate(ys).astype(np.int32)\n",
    "    y_train = y_train_full[:40000]\n",
    "    y_val = y_train_full[40000:50000]\n",
    "    del xs, ys\n",
    "    return x_train, x_val, y_train, y_val"
   ]
  },
  {
   "cell_type": "code",
   "execution_count": 4,
   "metadata": {},
   "outputs": [
    {
     "data": {
      "text/plain": [
       "10000"
      ]
     },
     "execution_count": 4,
     "metadata": {},
     "output_type": "execute_result"
    }
   ],
   "source": [
    "# Loads training and validation data sets which are normalized to unity. Still need to zero mean and divide by stddev,\n",
    "# but this is done separately on datasets. \n",
    "x_train, x_val, y_train, y_val = load_data()\n",
    "len(y_val)"
   ]
  },
  {
   "cell_type": "code",
   "execution_count": 5,
   "metadata": {},
   "outputs": [],
   "source": [
    "# Randomly shuffle dataset. \n",
    "np.random.randint(42)\n",
    "idx = np.random.permutation(40000)\n",
    "x_train = x_train[idx]\n",
    "y_train = y_train[idx]"
   ]
  },
  {
   "cell_type": "code",
   "execution_count": 6,
   "metadata": {},
   "outputs": [
    {
     "data": {
      "text/plain": [
       "40000"
      ]
     },
     "execution_count": 6,
     "metadata": {},
     "output_type": "execute_result"
    }
   ],
   "source": [
    "len(y_train)"
   ]
  },
  {
   "cell_type": "code",
   "execution_count": 7,
   "metadata": {},
   "outputs": [
    {
     "data": {
      "text/plain": [
       "array([8, 2, 5, 1, 0, 9, 7, 7, 5, 1, 2, 6, 9, 8, 2, 9, 4, 6, 9], dtype=int32)"
      ]
     },
     "execution_count": 7,
     "metadata": {},
     "output_type": "execute_result"
    }
   ],
   "source": [
    "y_train[1:20]"
   ]
  },
  {
   "cell_type": "code",
   "execution_count": 8,
   "metadata": {},
   "outputs": [
    {
     "name": "stdout",
     "output_type": "stream",
     "text": [
      "(40000, 32, 32, 3)\n"
     ]
    }
   ],
   "source": [
    "width = 32\n",
    "height = 32\n",
    "depth = 3\n",
    "print(x_train.shape)"
   ]
  },
  {
   "cell_type": "code",
   "execution_count": 9,
   "metadata": {
    "scrolled": true
   },
   "outputs": [
    {
     "data": {
      "text/plain": [
       "<matplotlib.image.AxesImage at 0x14c4d1e10>"
      ]
     },
     "execution_count": 9,
     "metadata": {},
     "output_type": "execute_result"
    },
    {
     "data": {
      "image/png": "[encoded data removed]",
      "text/plain": [
       "<matplotlib.figure.Figure at 0x10b9387f0>"
      ]
     },
     "metadata": {},
     "output_type": "display_data"
    }
   ],
   "source": [
    "fig = plt.figure()\n",
    "idx = np.random.randint(40000, size = [2, 2])\n",
    "plt.subplot(221)\n",
    "plt.imshow(x_train[idx[0, 0]].transpose((0, 1, 2)), interpolation = 'nearest') \n",
    "plt.subplot(222)\n",
    "plt.imshow(x_train[idx[0, 1]].transpose((0, 1, 2)), interpolation = 'nearest') \n",
    "plt.subplot(223)\n",
    "plt.imshow(x_train[idx[1, 0]].transpose((0, 1, 2)), interpolation = 'nearest') \n",
    "plt.subplot(224)\n",
    "plt.imshow(x_train[idx[1, 1]].transpose((0, 1, 2)), interpolation = 'nearest')         \n",
    "#idx[4, 4]\n",
    "#one_image = x_train[1000].transpose((0, 1, 2))\n",
    "#plt.imshow(one_image, interpolation='nearest')"
   ]
  },
  {
   "cell_type": "code",
   "execution_count": 10,
   "metadata": {},
   "outputs": [
    {
     "name": "stdout",
     "output_type": "stream",
     "text": [
      "(10000, 32, 32, 3) -3.5516478647e-15 1.0\n"
     ]
    }
   ],
   "source": [
    "# Next we scale and zero mean the training and validation images, and implement batch norm\n",
    "x_val_zero_mean = (x_val - np.mean(x_val, keepdims = True))/np.std(x_val, keepdims = True)\n",
    "print(x_val_zero_mean.shape, np.mean(x_val_zero_mean),np.std(x_val_zero_mean))"
   ]
  },
  {
   "cell_type": "code",
   "execution_count": 11,
   "metadata": {},
   "outputs": [
    {
     "name": "stdout",
     "output_type": "stream",
     "text": [
      "400\n"
     ]
    }
   ],
   "source": [
    "batch_size = 100\n",
    "n_batches = int(x_train.shape[0]/batch_size)\n",
    "print(n_batches)"
   ]
  },
  {
   "cell_type": "code",
   "execution_count": 12,
   "metadata": {},
   "outputs": [
    {
     "name": "stdout",
     "output_type": "stream",
     "text": [
      "1.0\n"
     ]
    }
   ],
   "source": [
    "def fetch_batch(epoch, batch_num, batch_size):\n",
    "    np.random.seed(epoch*n_batches + batch_num)\n",
    "    batch_idx = np.random.randint(40000, size = batch_size)\n",
    "    x_batch = x_train[batch_idx]\n",
    "    x_batch_zeromean = (x_batch - np.mean(x_batch, keepdims = True))/np.std(x_batch, keepdims = True)\n",
    "    y_batch = y_train[batch_idx]\n",
    "    return x_batch_zeromean, y_batch\n",
    "\n",
    "(fetch_batch(1, 1, 100)[1])[:10]\n",
    "print(np.std(fetch_batch(1, 1, 100)[0]))"
   ]
  },
  {
   "cell_type": "code",
   "execution_count": 14,
   "metadata": {},
   "outputs": [],
   "source": [
    "# Now we can write a CNN to train the dataset. Later on to improve training,\n",
    "# we will augment the dataset by random rotations/permutations. \n",
    "import tensorflow as tf\n",
    "X = tf.placeholder(tf.float32, shape = (None, width, height, depth), name = \"X\")\n",
    "y = tf.placeholder(tf.int32, shape = (None), name = \"y\")"
   ]
  },
  {
   "cell_type": "code",
   "execution_count": 13,
   "metadata": {},
   "outputs": [],
   "source": [
    "# 3 convolutional and pooling layers -- then flatten the pool and feed to 2 fully connected nets. \n",
    "\n",
    "def build_cnn(inputs, labels, learning_rate):    \n",
    "    #print('building net') \n",
    "    weights = {\n",
    "        'w1': tf.Variable(tf.random_normal([5, 5, 3, 6], stddev = 0.1)), # 5 x 5 is filter size, depth = 3 and #feature maps = 100\n",
    "        'w2': tf.Variable(tf.random_normal([5, 5, 6, 16], stddev = 0.1)),\n",
    "        'w3': tf.Variable(tf.random_normal([4, 4, 16, 32], stddev = 0.1))\n",
    "    }\n",
    "    \n",
    "    biases = {\n",
    "        'b1': tf.Variable(tf.random_normal([6], stddev = 0.1)),\n",
    "        'b2': tf.Variable(tf.random_normal([16], stddev = 0.1)),\n",
    "        'b3':tf.Variable(tf.random_normal([32], stddev = 0.1))\n",
    "    }\n",
    "    \n",
    "    conv1 = tf.nn.conv2d(inputs, weights['w1'], strides = [1, 1, 1, 1], padding = \"SAME\")\n",
    "    conv1 = tf.nn.bias_add(conv1, biases['b1'])\n",
    "    conv1 = tf.nn.relu(conv1) # tf.nn.conv2d has no explicit activation fn. Use tf.nn.layers instead. \n",
    "    pool1 = tf.nn.max_pool(conv1, ksize = [1, 2, 2, 1], strides = [1, 2, 2, 1], padding = \"VALID\")\n",
    "    \n",
    "    #image_size = (32 - 2+0)/2+1 = 16 by 16\n",
    "    conv2 = tf.nn.conv2d(pool1, weights['w2'], strides = [1, 1, 1, 1], padding = \"SAME\")\n",
    "    conv2 = tf.nn.bias_add(conv2, biases['b2'])\n",
    "    conv2 = tf.nn.relu(conv2)\n",
    "    pool2 = tf.nn.max_pool(conv2, ksize = [1, 2, 2, 1], strides = [1, 2, 2, 1], padding = \"VALID\")\n",
    "    \n",
    "    #image_size = (16 - 2+0)/2+1 = 8 by 8\n",
    "    conv3 = tf.nn.conv2d(pool2, weights['w3'], strides = [1, 1, 1, 1], padding = \"SAME\")\n",
    "    conv3 = tf.nn.bias_add(conv3, biases['b3'])\n",
    "    conv3 = tf.nn.relu(conv3)\n",
    "    pool3 = tf.nn.max_pool(conv3, ksize = [1, 2, 2, 1], strides = [1, 2, 2, 1], padding = \"VALID\")\n",
    "    \n",
    "    #print('evaluate net')          \n",
    "    #image_size = (8-2+0)/2+1 = 4 by 4 (depth dimension always unaffected)\n",
    "    #convert to a dense network at the end for outputing to softmax.\n",
    "    pool_size = pool3.get_shape().as_list() # use get_shape to get shape of tensor.\n",
    "    \n",
    "    pool_flat = tf.reshape(pool3, [-1, pool_size[1]*pool_size[2]*pool_size[3]])\n",
    "    dense = tf.layers.dense(pool_flat, units = 120, activation = tf.nn.relu)\n",
    "    logits = tf.layers.dense(dense,  units = 10, activation = None)\n",
    "    # Use the logits to get the accuracy. \n",
    "    \n",
    "    \n",
    "    xentropy = tf.nn.sparse_softmax_cross_entropy_with_logits(labels =labels, logits = logits)\n",
    "    loss = tf.reduce_mean(xentropy, name = \"loss\")\n",
    "    \n",
    "    optimizer = tf.train.GradientDescentOptimizer(learning_rate)\n",
    "    training_op = optimizer.minimize(loss)\n",
    "    tf.train.Saver()\n",
    "    return conv1, loss, logits\n",
    "    # here the in_top_k function checks if the largest logit is in the top 1 class. \n",
    "    #correct = tf.nn.in_top_k(logits, y, 1)\n",
    "    #accuracy = tf.reduce_mean(tf.cast(correct, tf.float32))\n",
    "    "
   ]
  },
  {
   "cell_type": "code",
   "execution_count": 17,
   "metadata": {
    "scrolled": false
   },
   "outputs": [
    {
     "name": "stdout",
     "output_type": "stream",
     "text": [
      "doing stuff 0\n",
      "doing stuff 10\n",
      "doing stuff 20\n",
      "doing stuff 30\n",
      "doing stuff 40\n",
      "doing stuff 50\n",
      "doing stuff 60\n",
      "doing stuff 70\n",
      "doing stuff 80\n",
      "doing stuff 90\n",
      "doing stuff 100\n",
      "doing stuff 110\n",
      "doing stuff 120\n",
      "doing stuff 130\n",
      "doing stuff 140\n",
      "doing stuff 150\n",
      "doing stuff 160\n",
      "doing stuff 170\n",
      "doing stuff 180\n",
      "doing stuff 190\n",
      "training accuracy: 0.07\n",
      "6271.604499101639\n"
     ]
    }
   ],
   "source": [
    "import time\n",
    "n_epochs = 1\n",
    "# train for different hyperparameters\n",
    "#hplist = [0.0001, 0.001, 0.01, 0.1]\n",
    "acc_tab = np.zeros((int(n_batches/2)), dtype = float)\n",
    "\n",
    "with tf.Session() as sess:\n",
    "    start_time = time.time()\n",
    "#    for hpiter in range(3):\n",
    "    for iteration in range(int(n_batches/2)):\n",
    "        X_mybatch, y_mybatch = fetch_batch(1, iteration, batch_size)\n",
    "        cnn_res = build_cnn(X_mybatch.astype('float32'), y_mybatch, 0.01)\n",
    "        init = tf.global_variables_initializer()\n",
    "        sess.run(init)\n",
    "        conv1, pool_layer, logits = sess.run(cnn_res)\n",
    "        #print('doing something')\n",
    "        correct = tf.nn.in_top_k(logits, y_mybatch, 1)\n",
    "        accuracy = tf.reduce_mean(tf.cast(correct, tf.float32))\n",
    "        if iteration % 10 == 0:\n",
    "            print('doing stuff', iteration)\n",
    "        acc_tab[iteration] = accuracy.eval()    \n",
    "    acc_train = accuracy.eval()\n",
    "    print(\"training accuracy:\", acc_train)\n",
    "    print(time.time() - start_time)\n",
    "\n",
    "sess.close()\n",
    "# once more epochs are added we can save the model at checkpoints. "
   ]
  },
  {
   "cell_type": "code",
   "execution_count": null,
   "metadata": {
    "scrolled": false
   },
   "outputs": [],
   "source": [
    "\n",
    "#plt.subplot(211)\n",
    "    #plt.imshow(conv1[10][:,:,11].astype(np.uint8), interpolation = 'nearest')\n",
    "    #plt.subplot(812)\n",
    "    #plt.imshow(conv1[10][:,:,1].astype(np.uint8), interpolation = 'nearest')\n",
    "    #plt.subplot(813)\n",
    "    #plt.imshow(conv1[50][:,:,1].astype(np.uint8), interpolation = 'nearest')\n",
    "    #plt.subplot(814)\n",
    "    #plt.imshow(conv1[80][:,:,1].astype(np.uint8), interpolation = 'nearest')\n",
    "    #plt.colorbar()\n",
    "    #plt.subplot(212)\n",
    "    #plt.imshow(X_mybatch[10].transpose((0, 1, 2)), interpolation = 'nearest') \n",
    "    #plt.subplot(816)\n",
    "    #plt.imshow(X_mybatch[10].transpose((0, 1, 2)), interpolation = 'nearest') \n",
    "    #plt.subplot(817)\n",
    "    #plt.imshow(X_mybatch[50].transpose((0, 1, 2)), interpolation = 'nearest') \n",
    "    #plt.subplot(818)\n",
    "    #plt.imshow(X_mybatch[80].transpose((0, 1, 2)), interpolation = 'nearest') \n",
    "    #plt.colorbar()\n",
    "    #sess.run(pool_out)\n",
    "    #pool_out.getshape()\n",
    "\n",
    "# we test out this function and see if it outputs a loss.\n",
    "#init = tf.global_variables_initializer()\n",
    "#batch_loss = 0\n",
    "\n",
    "#with tf.Session() as sess:\n",
    "#    init.run()\n",
    "#    for epoch in range(1):\n",
    "#       for iteration in range(int(n_batches/400)): \n",
    "#            X_batch, y_batch = fetch_batch(epoch, iteration, batch_size)\n",
    "#            pool_out = sess.run(exec_fn(X, y), feed_dict = {X: X_batch, y: y_batch})\n",
    "#            plt.imshow(pool_out[0].astype(np.unit8))\n",
    "#            print(\"batchloss:\", batch_loss)\n",
    "    "
   ]
  },
  {
   "cell_type": "code",
   "execution_count": 18,
   "metadata": {},
   "outputs": [
    {
     "data": {
      "text/plain": [
       "[<matplotlib.lines.Line2D at 0x3d079cef0>]"
      ]
     },
     "execution_count": 18,
     "metadata": {},
     "output_type": "execute_result"
    },
    {
     "data": {
      "image/png": "[encoded data removed]",
      "text/plain": [
       "<matplotlib.figure.Figure at 0x157b54390>"
      ]
     },
     "metadata": {},
     "output_type": "display_data"
    }
   ],
   "source": [
    "plt.plot(acc_tab)"
   ]
  },
  {
   "cell_type": "code",
   "execution_count": null,
   "metadata": {
    "collapsed": true
   },
   "outputs": [],
   "source": []
  }
 ],
 "metadata": {
  "kernelspec": {
   "display_name": "Python 3",
   "language": "python",
   "name": "python3"
  },
  "language_info": {
   "codemirror_mode": {
    "name": "ipython",
    "version": 3
   },
   "file_extension": ".py",
   "mimetype": "text/x-python",
   "name": "python",
   "nbconvert_exporter": "python",
   "pygments_lexer": "ipython3",
   "version": "3.6.1"
  }
 },
 "nbformat": 4,
 "nbformat_minor": 2
}
